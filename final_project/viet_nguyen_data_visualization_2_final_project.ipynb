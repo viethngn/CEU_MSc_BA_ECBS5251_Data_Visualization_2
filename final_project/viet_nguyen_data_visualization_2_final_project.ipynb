{
 "cells": [
  {
   "cell_type": "markdown",
   "source": [
    "# Data Visualization 2 - Madrid Weather Data Visualization"
   ],
   "metadata": {
    "collapsed": false
   },
   "id": "2044719e69f6e12d"
  },
  {
   "cell_type": "code",
   "execution_count": 1,
   "id": "initial_id",
   "metadata": {
    "collapsed": true,
    "ExecuteTime": {
     "end_time": "2023-12-07T23:28:41.081500Z",
     "start_time": "2023-12-07T23:28:40.449148Z"
    }
   },
   "outputs": [],
   "source": [
    " # import libs\n",
    "import plotly.express as px\n",
    "import pandas as pd\n",
    "import numpy as np\n",
    "import plotly.io as pio\n",
    "from plotly.subplots import make_subplots\n",
    "from dash import Dash \n",
    "from dash import html, dcc \n",
    "from dash import callback, Output, Input\n",
    "from datetime import datetime\n",
    "pio.templates.default = 'plotly_white'"
   ]
  },
  {
   "cell_type": "code",
   "execution_count": 2,
   "outputs": [],
   "source": [
    "# create df for the wine tasting dataset\n",
    "df = pd.read_csv('https://raw.githubusercontent.com/viethngn/CEU_MSc_BA_ECBS5251_Data_Visualization_2/main/final_project/Madrid_Daily_Weather%201997-2015.csv')\n",
    "df.head().T;"
   ],
   "metadata": {
    "collapsed": false,
    "ExecuteTime": {
     "end_time": "2023-12-07T23:28:41.717244Z",
     "start_time": "2023-12-07T23:28:41.058335Z"
    }
   },
   "id": "88cb5e309d3dcd50"
  },
  {
   "cell_type": "code",
   "execution_count": 3,
   "outputs": [
    {
     "data": {
      "text/plain": "                                      0           1           2           3  \\\nCET                          1997-01-01  1997-01-02  1997-01-03  1997-01-04   \nMax TemperatureC                    7.0         7.0         5.0         7.0   \nMean TemperatureC                   4.0         3.0         3.0         3.0   \nMin TemperatureC                    2.0         0.0         2.0        -1.0   \nDew PointC                          5.0         6.0         5.0        -2.0   \nMeanDew PointC                      3.0         3.0         1.0        -3.0   \nMin DewpointC                       2.0         0.0        -1.0        -4.0   \nMax Humidity                      100.0       100.0       100.0        86.0   \n Mean Humidity                     95.0        92.0        85.0        63.0   \n Min Humidity                      76.0        71.0        70.0        49.0   \n Max Sea Level PressurehPa         1010        1007        1005        1012   \n Mean Sea Level PressurehPa        1008        1003         999        1010   \n Min Sea Level PressurehPa         1004         997         996        1005   \n Max VisibilityKm                  10.0        10.0        10.0        10.0   \n Mean VisibilityKm                  9.0         9.0        10.0        10.0   \n Min VisibilitykM                   4.0         4.0         7.0        10.0   \n Max Wind SpeedKm/h                  13          26          27          27   \n Mean Wind SpeedKm/h                  6           8          19          19   \n Max Gust SpeedKm/h                 NaN        47.0         NaN        40.0   \nPrecipitationmm                     0.0         0.0         0.0         0.0   \n CloudCover                         6.0         5.0         6.0         2.0   \n Events                             NaN        Rain   Rain-Snow         NaN   \nWindDirDegrees                      229         143         256         284   \nmonth                                 1           1           1           1   \nyear                               1997        1997        1997        1997   \nmonth_year                     Jan-1997    Jan-1997    Jan-1997    Jan-1997   \nevent_cat                           NaN        Rain   Rain-Snow         NaN   \n\n                                      4  \nCET                          1997-01-05  \nMax TemperatureC                    2.0  \nMean TemperatureC                   0.0  \nMin TemperatureC                   -1.0  \nDew PointC                          2.0  \nMeanDew PointC                      0.0  \nMin DewpointC                      -3.0  \nMax Humidity                      100.0  \n Mean Humidity                     95.0  \n Min Humidity                      86.0  \n Max Sea Level PressurehPa         1012  \n Mean Sea Level PressurehPa        1008  \n Min Sea Level PressurehPa         1005  \n Max VisibilityKm                  10.0  \n Mean VisibilityKm                  5.0  \n Min VisibilitykM                   1.0  \n Max Wind SpeedKm/h                  14  \n Mean Wind SpeedKm/h                  6  \n Max Gust SpeedKm/h                 NaN  \nPrecipitationmm                     0.0  \n CloudCover                         7.0  \n Events                            Snow  \nWindDirDegrees                        2  \nmonth                                 1  \nyear                               1997  \nmonth_year                     Jan-1997  \nevent_cat                          Snow  ",
      "text/html": "<div>\n<style scoped>\n    .dataframe tbody tr th:only-of-type {\n        vertical-align: middle;\n    }\n\n    .dataframe tbody tr th {\n        vertical-align: top;\n    }\n\n    .dataframe thead th {\n        text-align: right;\n    }\n</style>\n<table border=\"1\" class=\"dataframe\">\n  <thead>\n    <tr style=\"text-align: right;\">\n      <th></th>\n      <th>0</th>\n      <th>1</th>\n      <th>2</th>\n      <th>3</th>\n      <th>4</th>\n    </tr>\n  </thead>\n  <tbody>\n    <tr>\n      <th>CET</th>\n      <td>1997-01-01</td>\n      <td>1997-01-02</td>\n      <td>1997-01-03</td>\n      <td>1997-01-04</td>\n      <td>1997-01-05</td>\n    </tr>\n    <tr>\n      <th>Max TemperatureC</th>\n      <td>7.0</td>\n      <td>7.0</td>\n      <td>5.0</td>\n      <td>7.0</td>\n      <td>2.0</td>\n    </tr>\n    <tr>\n      <th>Mean TemperatureC</th>\n      <td>4.0</td>\n      <td>3.0</td>\n      <td>3.0</td>\n      <td>3.0</td>\n      <td>0.0</td>\n    </tr>\n    <tr>\n      <th>Min TemperatureC</th>\n      <td>2.0</td>\n      <td>0.0</td>\n      <td>2.0</td>\n      <td>-1.0</td>\n      <td>-1.0</td>\n    </tr>\n    <tr>\n      <th>Dew PointC</th>\n      <td>5.0</td>\n      <td>6.0</td>\n      <td>5.0</td>\n      <td>-2.0</td>\n      <td>2.0</td>\n    </tr>\n    <tr>\n      <th>MeanDew PointC</th>\n      <td>3.0</td>\n      <td>3.0</td>\n      <td>1.0</td>\n      <td>-3.0</td>\n      <td>0.0</td>\n    </tr>\n    <tr>\n      <th>Min DewpointC</th>\n      <td>2.0</td>\n      <td>0.0</td>\n      <td>-1.0</td>\n      <td>-4.0</td>\n      <td>-3.0</td>\n    </tr>\n    <tr>\n      <th>Max Humidity</th>\n      <td>100.0</td>\n      <td>100.0</td>\n      <td>100.0</td>\n      <td>86.0</td>\n      <td>100.0</td>\n    </tr>\n    <tr>\n      <th>Mean Humidity</th>\n      <td>95.0</td>\n      <td>92.0</td>\n      <td>85.0</td>\n      <td>63.0</td>\n      <td>95.0</td>\n    </tr>\n    <tr>\n      <th>Min Humidity</th>\n      <td>76.0</td>\n      <td>71.0</td>\n      <td>70.0</td>\n      <td>49.0</td>\n      <td>86.0</td>\n    </tr>\n    <tr>\n      <th>Max Sea Level PressurehPa</th>\n      <td>1010</td>\n      <td>1007</td>\n      <td>1005</td>\n      <td>1012</td>\n      <td>1012</td>\n    </tr>\n    <tr>\n      <th>Mean Sea Level PressurehPa</th>\n      <td>1008</td>\n      <td>1003</td>\n      <td>999</td>\n      <td>1010</td>\n      <td>1008</td>\n    </tr>\n    <tr>\n      <th>Min Sea Level PressurehPa</th>\n      <td>1004</td>\n      <td>997</td>\n      <td>996</td>\n      <td>1005</td>\n      <td>1005</td>\n    </tr>\n    <tr>\n      <th>Max VisibilityKm</th>\n      <td>10.0</td>\n      <td>10.0</td>\n      <td>10.0</td>\n      <td>10.0</td>\n      <td>10.0</td>\n    </tr>\n    <tr>\n      <th>Mean VisibilityKm</th>\n      <td>9.0</td>\n      <td>9.0</td>\n      <td>10.0</td>\n      <td>10.0</td>\n      <td>5.0</td>\n    </tr>\n    <tr>\n      <th>Min VisibilitykM</th>\n      <td>4.0</td>\n      <td>4.0</td>\n      <td>7.0</td>\n      <td>10.0</td>\n      <td>1.0</td>\n    </tr>\n    <tr>\n      <th>Max Wind SpeedKm/h</th>\n      <td>13</td>\n      <td>26</td>\n      <td>27</td>\n      <td>27</td>\n      <td>14</td>\n    </tr>\n    <tr>\n      <th>Mean Wind SpeedKm/h</th>\n      <td>6</td>\n      <td>8</td>\n      <td>19</td>\n      <td>19</td>\n      <td>6</td>\n    </tr>\n    <tr>\n      <th>Max Gust SpeedKm/h</th>\n      <td>NaN</td>\n      <td>47.0</td>\n      <td>NaN</td>\n      <td>40.0</td>\n      <td>NaN</td>\n    </tr>\n    <tr>\n      <th>Precipitationmm</th>\n      <td>0.0</td>\n      <td>0.0</td>\n      <td>0.0</td>\n      <td>0.0</td>\n      <td>0.0</td>\n    </tr>\n    <tr>\n      <th>CloudCover</th>\n      <td>6.0</td>\n      <td>5.0</td>\n      <td>6.0</td>\n      <td>2.0</td>\n      <td>7.0</td>\n    </tr>\n    <tr>\n      <th>Events</th>\n      <td>NaN</td>\n      <td>Rain</td>\n      <td>Rain-Snow</td>\n      <td>NaN</td>\n      <td>Snow</td>\n    </tr>\n    <tr>\n      <th>WindDirDegrees</th>\n      <td>229</td>\n      <td>143</td>\n      <td>256</td>\n      <td>284</td>\n      <td>2</td>\n    </tr>\n    <tr>\n      <th>month</th>\n      <td>1</td>\n      <td>1</td>\n      <td>1</td>\n      <td>1</td>\n      <td>1</td>\n    </tr>\n    <tr>\n      <th>year</th>\n      <td>1997</td>\n      <td>1997</td>\n      <td>1997</td>\n      <td>1997</td>\n      <td>1997</td>\n    </tr>\n    <tr>\n      <th>month_year</th>\n      <td>Jan-1997</td>\n      <td>Jan-1997</td>\n      <td>Jan-1997</td>\n      <td>Jan-1997</td>\n      <td>Jan-1997</td>\n    </tr>\n    <tr>\n      <th>event_cat</th>\n      <td>NaN</td>\n      <td>Rain</td>\n      <td>Rain-Snow</td>\n      <td>NaN</td>\n      <td>Snow</td>\n    </tr>\n  </tbody>\n</table>\n</div>"
     },
     "execution_count": 3,
     "metadata": {},
     "output_type": "execute_result"
    }
   ],
   "source": [
    "# filter missing data\n",
    "df = df[(df['Mean TemperatureC'].notna())]\n",
    "\n",
    "# add time columns\n",
    "df['month'] = df.CET.apply(lambda x: int(datetime.strptime(x, '%Y-%m-%d').strftime('%m')))\n",
    "df['year'] = df.CET.apply(lambda x: int(datetime.strptime(x, '%Y-%m-%d').strftime('%Y')))\n",
    "df['month_year'] = df.CET.apply(lambda x: datetime.strptime(x, '%Y-%m-%d').strftime('%b-%Y'))\n",
    "df['event_cat'] = df[' Events']\n",
    "df.head().T"
   ],
   "metadata": {
    "collapsed": false,
    "ExecuteTime": {
     "end_time": "2023-12-07T23:28:41.834121Z",
     "start_time": "2023-12-07T23:28:41.716871Z"
    }
   },
   "id": "81c1c9d61d623615"
  },
  {
   "cell_type": "code",
   "execution_count": 4,
   "outputs": [
    {
     "name": "stdout",
     "output_type": "stream",
     "text": [
      "<class 'pandas.core.frame.DataFrame'>\n",
      "Index: 6809 entries, 0 to 6811\n",
      "Data columns (total 27 columns):\n",
      " #   Column                       Non-Null Count  Dtype  \n",
      "---  ------                       --------------  -----  \n",
      " 0   CET                          6809 non-null   object \n",
      " 1   Max TemperatureC             6809 non-null   float64\n",
      " 2   Mean TemperatureC            6809 non-null   float64\n",
      " 3   Min TemperatureC             6809 non-null   float64\n",
      " 4   Dew PointC                   6809 non-null   float64\n",
      " 5   MeanDew PointC               6809 non-null   float64\n",
      " 6   Min DewpointC                6809 non-null   float64\n",
      " 7   Max Humidity                 6809 non-null   float64\n",
      " 8    Mean Humidity               6809 non-null   float64\n",
      " 9    Min Humidity                6809 non-null   float64\n",
      " 10   Max Sea Level PressurehPa   6809 non-null   int64  \n",
      " 11   Mean Sea Level PressurehPa  6809 non-null   int64  \n",
      " 12   Min Sea Level PressurehPa   6809 non-null   int64  \n",
      " 13   Max VisibilityKm            5872 non-null   float64\n",
      " 14   Mean VisibilityKm           5872 non-null   float64\n",
      " 15   Min VisibilitykM            5872 non-null   float64\n",
      " 16   Max Wind SpeedKm/h          6809 non-null   int64  \n",
      " 17   Mean Wind SpeedKm/h         6809 non-null   int64  \n",
      " 18   Max Gust SpeedKm/h          3506 non-null   float64\n",
      " 19  Precipitationmm              6809 non-null   float64\n",
      " 20   CloudCover                  5440 non-null   float64\n",
      " 21   Events                      1798 non-null   object \n",
      " 22  WindDirDegrees               6809 non-null   int64  \n",
      " 23  month                        6809 non-null   int64  \n",
      " 24  year                         6809 non-null   int64  \n",
      " 25  month_year                   6809 non-null   object \n",
      " 26  event_cat                    1798 non-null   object \n",
      "dtypes: float64(15), int64(8), object(4)\n",
      "memory usage: 1.5+ MB\n"
     ]
    }
   ],
   "source": [
    "df.info()"
   ],
   "metadata": {
    "collapsed": false,
    "ExecuteTime": {
     "end_time": "2023-12-07T23:28:41.848531Z",
     "start_time": "2023-12-07T23:28:41.835743Z"
    }
   },
   "id": "e2af2fe59ad69287"
  },
  {
   "cell_type": "code",
   "execution_count": 5,
   "outputs": [
    {
     "data": {
      "text/plain": "                              0                    1                    2  \\\nmonth_year  1997-04-01 00:00:00  1997-04-01 00:00:00  1998-04-01 00:00:00   \n Events                    Rain    Rain-Thunderstorm                  Fog   \nevent_cat                     7                    1                    2   \nln_count                1.94591                  0.0             0.693147   \nyear                       1997                 1997                 1998   \n\n                              3                       4  \nmonth_year  1998-04-01 00:00:00     1998-04-01 00:00:00  \n Events                    Rain  Rain-Hail-Thunderstorm  \nevent_cat                    12                       1  \nln_count               2.484907                     0.0  \nyear                       1998                    1998  ",
      "text/html": "<div>\n<style scoped>\n    .dataframe tbody tr th:only-of-type {\n        vertical-align: middle;\n    }\n\n    .dataframe tbody tr th {\n        vertical-align: top;\n    }\n\n    .dataframe thead th {\n        text-align: right;\n    }\n</style>\n<table border=\"1\" class=\"dataframe\">\n  <thead>\n    <tr style=\"text-align: right;\">\n      <th></th>\n      <th>0</th>\n      <th>1</th>\n      <th>2</th>\n      <th>3</th>\n      <th>4</th>\n    </tr>\n  </thead>\n  <tbody>\n    <tr>\n      <th>month_year</th>\n      <td>1997-04-01 00:00:00</td>\n      <td>1997-04-01 00:00:00</td>\n      <td>1998-04-01 00:00:00</td>\n      <td>1998-04-01 00:00:00</td>\n      <td>1998-04-01 00:00:00</td>\n    </tr>\n    <tr>\n      <th>Events</th>\n      <td>Rain</td>\n      <td>Rain-Thunderstorm</td>\n      <td>Fog</td>\n      <td>Rain</td>\n      <td>Rain-Hail-Thunderstorm</td>\n    </tr>\n    <tr>\n      <th>event_cat</th>\n      <td>7</td>\n      <td>1</td>\n      <td>2</td>\n      <td>12</td>\n      <td>1</td>\n    </tr>\n    <tr>\n      <th>ln_count</th>\n      <td>1.94591</td>\n      <td>0.0</td>\n      <td>0.693147</td>\n      <td>2.484907</td>\n      <td>0.0</td>\n    </tr>\n    <tr>\n      <th>year</th>\n      <td>1997</td>\n      <td>1997</td>\n      <td>1998</td>\n      <td>1998</td>\n      <td>1998</td>\n    </tr>\n  </tbody>\n</table>\n</div>"
     },
     "execution_count": 5,
     "metadata": {},
     "output_type": "execute_result"
    }
   ],
   "source": [
    "event_df = df.groupby(['month_year', ' Events'])['event_cat'].count()\n",
    "event_df = event_df.reset_index()\n",
    "event_df['ln_count'] = np.log(event_df['event_cat'])\n",
    "event_df['year'] = event_df.month_year.apply(lambda x: int(str(x).split('-')[1]))\n",
    "event_df['month_year'] = pd.to_datetime(event_df['month_year'], format=\"%b-%Y\")\n",
    "# event_df = event_df[(event_df[' Events'].isin(['Rain', 'Thunderstorm', 'Fog', 'Snow', 'Tornado']))]\n",
    "event_df.head().T"
   ],
   "metadata": {
    "collapsed": false,
    "ExecuteTime": {
     "end_time": "2023-12-07T23:28:41.875655Z",
     "start_time": "2023-12-07T23:28:41.845950Z"
    }
   },
   "id": "76cf5978aba90761"
  },
  {
   "cell_type": "code",
   "execution_count": 6,
   "outputs": [],
   "source": [
    "# support function to create dual y-aixs plot\n",
    "def plotly_dual_axis(data, title=\"\", y1=\"\", y2=\"\", x=\"\"):\n",
    "    # Create subplot with secondary axis\n",
    "    subplot_fig = make_subplots(specs=[[{\"secondary_y\": True}]])\n",
    "\n",
    "    #Put Dataframe in fig1 and fig2\n",
    "    fig1 = px.line(data, x=x, y=y1, markers = True)\n",
    "    fig2 = px.line(data, x=x, y=y2, markers = True)\n",
    "    #Change the axis for fig2\n",
    "    fig2.update_traces(yaxis=\"y2\")\n",
    "\n",
    "    #Add the figs to the subplot figure\n",
    "    subplot_fig.add_traces(fig1.data + fig2.data)\n",
    "\n",
    "    #FORMAT subplot figure\n",
    "    subplot_fig.update_layout(title=title, yaxis=dict(title=y1), yaxis2=dict(title=y2), xaxis=dict(title=x))\n",
    "\n",
    "    #RECOLOR so as not to have overlapping colors\n",
    "    subplot_fig.for_each_trace(lambda t: t.update(line=dict(color=t.marker.color)))\n",
    "\n",
    "\n",
    "    return subplot_fig"
   ],
   "metadata": {
    "collapsed": false,
    "ExecuteTime": {
     "end_time": "2023-12-07T23:28:41.875829Z",
     "start_time": "2023-12-07T23:28:41.858351Z"
    }
   },
   "id": "8a9c8f5a6e16f5e"
  },
  {
   "cell_type": "code",
   "execution_count": 13,
   "outputs": [
    {
     "data": {
      "text/plain": "<IPython.lib.display.IFrame at 0x14142db20>",
      "text/html": "\n        <iframe\n            width=\"100%\"\n            height=\"650\"\n            src=\"http://127.0.0.1:8050/\"\n            frameborder=\"0\"\n            allowfullscreen\n            \n        ></iframe>\n        "
     },
     "metadata": {},
     "output_type": "display_data"
    }
   ],
   "source": [
    "# create the Dash app\n",
    "temp_title = \"Temperature (Celcius)\"\n",
    "wind_title = \"Wind Speed (Km/h)\"\n",
    "time_title = \"Date\"\n",
    "\n",
    "fig = plotly_dual_axis(df, title=\"Temperature & Wind Speed by Month in 2005\", x='CET', y1='Mean TemperatureC', y2=' Mean Wind SpeedKm/h')\n",
    "fig2 = px.bar(event_df, x='month_year', y='event_cat', color=' Events',\n",
    "              title=\"Weather Events by Month in 2005\",\n",
    "                labels={\n",
    "                          'month_year': 'Month'\n",
    "                        },\n",
    "                barmode = 'group')\n",
    "fig2.update_layout(title_x = 0.5, xaxis_tickformat=\"%b %Y\")\n",
    "\n",
    "app = Dash(__name__)\n",
    "\n",
    "app.layout = html.Div([\n",
    "    html.H1('Madrid Weather Dashboard', style={'textAlign':'center', \"font-family\": \"sans-serif\", \"font-size\":\"36px\"}),\n",
    "    html.Label('Set the year:', style={'font-weight': 'bold', \"text-align\": \"center\", \n",
    "                                                \"font-family\": \"sans-serif\"}),\n",
    "    dcc.Dropdown(id='year', options=df.year.unique(), value=2005, style={'width':'30%'}),\n",
    "    html.Label('Set the range for month:', style={'font-weight': 'bold', \"text-align\": \"center\", \n",
    "                                                \"font-family\": \"sans-serif\"}),\n",
    "    dcc.RadioItems( id='plot_mode', options=['Tempurature', 'Wind speed', 'Dual Temp & Wind'], value='Dual Temp & Wind', inline=True, style={\"font-family\": \"sans-serif\"}),\n",
    "    dcc.Graph(id = 'temp_wind_graph', figure = fig),\n",
    "    dcc.Graph(id = 'event_graph', figure = fig2),\n",
    "])\n",
    "\n",
    "@app.callback(\n",
    "    Output('temp_wind_graph', 'figure'),\n",
    "    Output('event_graph', 'figure'),\n",
    "    Input('year','value'),\n",
    "    Input('plot_mode','value')\n",
    ")\n",
    "\n",
    "def update(_year, _plot_mode):\n",
    "    if _plot_mode == 'Dual Temp & Wind':\n",
    "        fig = plotly_dual_axis(df[(df.year == _year)], \n",
    "                               title=\"test\", x='CET', y1='Mean TemperatureC', y2=' Mean Wind SpeedKm/h')\n",
    "        fig.update_layout(title = f\"Temperature & Wind Speed by Month in {_year}\", title_x = 0.5)\n",
    "        fig.update_layout(yaxis=dict(title=temp_title), yaxis2=dict(title=wind_title), xaxis=dict(title=time_title))\n",
    "    elif _plot_mode == 'Tempurature':\n",
    "        fig = px.line(df[(df.year == _year)], \n",
    "                      x='CET', y='Mean TemperatureC', \n",
    "                      labels={\n",
    "                          'CET': time_title,\n",
    "                          'Mean TemperatureC': temp_title\n",
    "                      }, markers = True)\n",
    "        fig.update_layout(title = f\"Temperature by Month in {_year}\", title_x = 0.5)\n",
    "    else:\n",
    "        fig = px.line(df[(df.year == _year)], \n",
    "                      x='CET', y=' Mean Wind SpeedKm/h',\n",
    "                      labels={\n",
    "                          'CET': time_title,\n",
    "                          ' Mean Wind SpeedKm/h': wind_title\n",
    "                      }, markers = True)\n",
    "        fig.update_traces(line_color='red')\n",
    "        fig.update_layout(title = f\"Wind Speed by Month in {_year}\", title_x = 0.5)\n",
    "    \n",
    "    fig2 = px.bar(event_df[(event_df.year == _year)], x='month_year', y='event_cat', color=' Events',\n",
    "                  title=f\"Weather Events by Month in {_year}\",\n",
    "                  labels={\n",
    "                        'month_year': 'Month',\n",
    "                        'event_cat': 'Number of Events'\n",
    "                      },\n",
    "                barmode = 'group')\n",
    "    fig2.update_layout(title_x = 0.5, xaxis_tickformat=\"%b %Y\")\n",
    "    \n",
    "    return fig, fig2\n",
    "\n",
    "app.run(debug = True)"
   ],
   "metadata": {
    "collapsed": false,
    "ExecuteTime": {
     "end_time": "2023-12-07T23:36:27.867961Z",
     "start_time": "2023-12-07T23:36:27.415797Z"
    }
   },
   "id": "476e7c2bf079812a"
  },
  {
   "cell_type": "code",
   "execution_count": 7,
   "outputs": [],
   "source": [],
   "metadata": {
    "collapsed": false,
    "ExecuteTime": {
     "end_time": "2023-12-07T23:28:42.049610Z",
     "start_time": "2023-12-07T23:28:42.035985Z"
    }
   },
   "id": "69ff7e55ddf380e3"
  }
 ],
 "metadata": {
  "kernelspec": {
   "display_name": "Python 3",
   "language": "python",
   "name": "python3"
  },
  "language_info": {
   "codemirror_mode": {
    "name": "ipython",
    "version": 2
   },
   "file_extension": ".py",
   "mimetype": "text/x-python",
   "name": "python",
   "nbconvert_exporter": "python",
   "pygments_lexer": "ipython2",
   "version": "2.7.6"
  }
 },
 "nbformat": 4,
 "nbformat_minor": 5
}
