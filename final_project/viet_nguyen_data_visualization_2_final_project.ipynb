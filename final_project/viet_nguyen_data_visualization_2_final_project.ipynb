{
 "cells": [
  {
   "cell_type": "markdown",
   "source": [
    "# Data Visualization 2 - Madrid Weather Data Visualization"
   ],
   "metadata": {
    "collapsed": false
   },
   "id": "2044719e69f6e12d"
  },
  {
   "cell_type": "code",
   "execution_count": 1,
   "id": "initial_id",
   "metadata": {
    "collapsed": true,
    "ExecuteTime": {
     "end_time": "2023-12-07T15:48:25.709309Z",
     "start_time": "2023-12-07T15:48:25.200416Z"
    }
   },
   "outputs": [],
   "source": [
    " # import libs\n",
    "import plotly.express as px\n",
    "import pandas as pd\n",
    "import plotly.io as pio\n",
    "from plotly.subplots import make_subplots\n",
    "from dash import Dash \n",
    "from dash import html, dcc \n",
    "from dash import callback, Output, Input\n",
    "from datetime import datetime\n",
    "pio.templates.default = 'plotly_white'"
   ]
  },
  {
   "cell_type": "code",
   "execution_count": 2,
   "outputs": [],
   "source": [
    "# create df for the wine tasting dataset\n",
    "df = pd.read_csv('https://raw.githubusercontent.com/viethngn/CEU_MSc_BA_ECBS5251_Data_Visualization_2/main/final_project/Madrid_Daily_Weather%201997-2015.csv')\n",
    "df.head().T;"
   ],
   "metadata": {
    "collapsed": false,
    "ExecuteTime": {
     "end_time": "2023-12-07T15:48:26.280623Z",
     "start_time": "2023-12-07T15:48:25.710715Z"
    }
   },
   "id": "88cb5e309d3dcd50"
  },
  {
   "cell_type": "code",
   "execution_count": 3,
   "outputs": [],
   "source": [
    "# filter missing data\n",
    "df = df[(df['Mean TemperatureC'].notna())]\n",
    "\n",
    "# add time columns\n",
    "df['month'] = df.CET.apply(lambda x: int(datetime.strptime(x, '%Y-%m-%d').strftime('%m')))\n",
    "df['year'] = df.CET.apply(lambda x: int(datetime.strptime(x, '%Y-%m-%d').strftime('%Y')))\n",
    "df.head().T;"
   ],
   "metadata": {
    "collapsed": false,
    "ExecuteTime": {
     "end_time": "2023-12-07T15:48:26.357478Z",
     "start_time": "2023-12-07T15:48:26.304103Z"
    }
   },
   "id": "81c1c9d61d623615"
  },
  {
   "cell_type": "code",
   "execution_count": 4,
   "outputs": [],
   "source": [
    "# support function to create dual y-aixs plot\n",
    "def plotly_dual_axis(data, title=\"\", y1=\"\", y2=\"\", x=\"\"):\n",
    "    # Create subplot with secondary axis\n",
    "    subplot_fig = make_subplots(specs=[[{\"secondary_y\": True}]])\n",
    "\n",
    "    #Put Dataframe in fig1 and fig2\n",
    "    fig1 = px.line(data, x=x, y=y1)\n",
    "    fig2 = px.line(data, x=x, y=y2)\n",
    "    #Change the axis for fig2\n",
    "    fig2.update_traces(yaxis=\"y2\")\n",
    "\n",
    "    #Add the figs to the subplot figure\n",
    "    subplot_fig.add_traces(fig1.data + fig2.data)\n",
    "\n",
    "    #FORMAT subplot figure\n",
    "    subplot_fig.update_layout(title=title, yaxis=dict(title=y1), yaxis2=dict(title=y2), xaxis=dict(title=x))\n",
    "\n",
    "    #RECOLOR so as not to have overlapping colors\n",
    "    subplot_fig.for_each_trace(lambda t: t.update(line=dict(color=t.marker.color)))\n",
    "\n",
    "\n",
    "    return subplot_fig"
   ],
   "metadata": {
    "collapsed": false,
    "ExecuteTime": {
     "end_time": "2023-12-07T15:48:26.363937Z",
     "start_time": "2023-12-07T15:48:26.359233Z"
    }
   },
   "id": "8a9c8f5a6e16f5e"
  },
  {
   "cell_type": "code",
   "execution_count": 5,
   "outputs": [
    {
     "data": {
      "text/plain": "<IPython.lib.display.IFrame at 0x13d7921f0>",
      "text/html": "\n        <iframe\n            width=\"100%\"\n            height=\"650\"\n            src=\"http://127.0.0.1:8050/\"\n            frameborder=\"0\"\n            allowfullscreen\n            \n        ></iframe>\n        "
     },
     "metadata": {},
     "output_type": "display_data"
    }
   ],
   "source": [
    "# create the Dash app\n",
    "temp_title = \"Temperature (Celcius)\"\n",
    "wind_title = \"Wind Speed (Km/h)\"\n",
    "time_title = \"Date\"\n",
    "\n",
    "fig = plotly_dual_axis(df, title=\"test\", x='CET', y1='Mean TemperatureC', y2=' Mean Wind SpeedKm/h')\n",
    "\n",
    "app = Dash(__name__)\n",
    "\n",
    "app.layout = html.Div([\n",
    "    html.H1('Madrid Weather Dashboard', style={'textAlign':'center', \"font-family\": \"sans-serif\", \"font-size\":\"36px\"}),\n",
    "    html.Label('Set the range for year:', style={'font-weight': 'bold', \"text-align\": \"center\", \n",
    "                                                \"font-family\": \"sans-serif\"}),\n",
    "    dcc.RangeSlider(min=df.year.min(), max=df.year.max(), id='year_range', step=1, value=[2005, 2005],\n",
    "                    marks={i: '{}'.format(i) for i in range(df.year.min(),df.year.max() + 1)}),\n",
    "    html.Label('Set the range for month:', style={'font-weight': 'bold', \"text-align\": \"center\", \n",
    "                                                \"font-family\": \"sans-serif\"}),\n",
    "    dcc.RadioItems( id='plot_mode', options=['Tempurature', 'Wind speed', 'Dual Temp & Wind'], value='Dual Temp & Wind', inline=True, style={\"font-family\": \"sans-serif\"}),\n",
    "    dcc.Graph(id = 'graph', figure = fig)\n",
    "])\n",
    "\n",
    "@app.callback(\n",
    "    Output('graph', 'figure'),\n",
    "    Input('year_range','value'),\n",
    "    Input('plot_mode','value')\n",
    ")\n",
    "\n",
    "def update(_year_range, _plot_mode):\n",
    "    if _plot_mode == 'Dual Temp & Wind':\n",
    "        fig = plotly_dual_axis(df[(df.year >= _year_range[0]) \n",
    "                                  & (df.year <= _year_range[1])], \n",
    "                               title=\"test\", x='CET', y1='Mean TemperatureC', y2=' Mean Wind SpeedKm/h')\n",
    "        fig.update_layout(title = \"Temperature & Wind Speed by Date\", title_x = 0.5)\n",
    "        fig.update_layout(yaxis=dict(title=temp_title), yaxis2=dict(title=wind_title), xaxis=dict(title=time_title))\n",
    "    elif _plot_mode == 'Tempurature':\n",
    "        fig = px.line(df[(df.year >= _year_range[0]) \n",
    "                                  & (df.year <= _year_range[1])], \n",
    "                      x='CET', y='Mean TemperatureC', \n",
    "                      labels={\n",
    "                          'CET': time_title,\n",
    "                          'Mean TemperatureC': temp_title\n",
    "                      })\n",
    "        fig.update_layout(title = \"Temperature by Date\", title_x = 0.5)\n",
    "    else:\n",
    "        fig = px.line(df[(df.year >= _year_range[0]) \n",
    "                                  & (df.year <= _year_range[1])], \n",
    "                      x='CET', y=' Mean Wind SpeedKm/h',\n",
    "                      labels={\n",
    "                          'CET': time_title,\n",
    "                          ' Mean Wind SpeedKm/h': wind_title\n",
    "                      })\n",
    "        fig.update_traces(line_color='red')\n",
    "        fig.update_layout(title = \"Wind Speed by Date\", title_x = 0.5)\n",
    "    return fig\n",
    "\n",
    "app.run(debug = True)"
   ],
   "metadata": {
    "collapsed": false,
    "ExecuteTime": {
     "end_time": "2023-12-07T15:48:26.467553Z",
     "start_time": "2023-12-07T15:48:26.368270Z"
    }
   },
   "id": "476e7c2bf079812a"
  },
  {
   "cell_type": "code",
   "execution_count": 5,
   "outputs": [],
   "source": [],
   "metadata": {
    "collapsed": false,
    "ExecuteTime": {
     "end_time": "2023-12-07T15:48:26.468870Z",
     "start_time": "2023-12-07T15:48:26.467659Z"
    }
   },
   "id": "6f2479e413273787"
  }
 ],
 "metadata": {
  "kernelspec": {
   "display_name": "Python 3",
   "language": "python",
   "name": "python3"
  },
  "language_info": {
   "codemirror_mode": {
    "name": "ipython",
    "version": 2
   },
   "file_extension": ".py",
   "mimetype": "text/x-python",
   "name": "python",
   "nbconvert_exporter": "python",
   "pygments_lexer": "ipython2",
   "version": "2.7.6"
  }
 },
 "nbformat": 4,
 "nbformat_minor": 5
}
