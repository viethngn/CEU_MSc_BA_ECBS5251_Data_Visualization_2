{
 "cells": [
  {
   "cell_type": "markdown",
   "source": [
    "# Data Visualization 2 - Madrid Weather Data Visualization"
   ],
   "metadata": {
    "collapsed": false
   },
   "id": "2044719e69f6e12d"
  },
  {
   "cell_type": "markdown",
   "source": [
    "### Overview\n",
    "This Dash app tracks and provides the weather reports for the city of Madrid from 1997 to 2015.\n",
    "\n",
    "The main data to track in the app are temperature, wind speed and weather events throughout each month of each year in the dashboard.\n",
    "\n",
    "___\n",
    "### Business Questions\n",
    "The main questions that this Dash app tries to answer are:\n",
    "1. When is the best time or season in the year to vist Madrid?\n",
    "\n",
    "> From the dashboard, it seems like from April to May and from September to October each year are the best times to visit Madrid because:\n",
    "> - The temperature is pretty warm\n",
    "> - The wind is not too strong\n",
    "> - Less rain & other extreme weather events\n",
    "\n",
    "2. How often do extreme weather events happen in Madrid throughout the year?\n",
    "\n",
    "> From the dashboard, it seems like there is no significant increase in the number of extreme weather occurrences.\n",
    "> Still, rainy weather occurs pretty often from October to March every year.\n",
    "\n",
    "___\n",
    "### Data Source\n",
    "The `Madrid Daily Weather` data source is downloaded from [Maven Analytics Data Playground](https://www.mavenanalytics.io/data-playground) and made available on Github to be integrated into this Jupiter notebook.\n",
    "\n",
    "___\n",
    "### Dash App Features\n",
    "The Dash app provides some interactive features for granular viewing experience:\n",
    "- A `Year` slider to quickly scroll through each year weather report\n",
    "- A `Plot Mode` radio selection to toggle between singular or dual axes view of temperature and wind speed \n"
   ],
   "metadata": {
    "collapsed": false
   },
   "id": "f12dbc9891d7c688"
  },
  {
   "cell_type": "code",
   "execution_count": 1,
   "id": "initial_id",
   "metadata": {
    "collapsed": true,
    "ExecuteTime": {
     "end_time": "2023-12-08T00:18:22.112808Z",
     "start_time": "2023-12-08T00:18:21.527399Z"
    }
   },
   "outputs": [],
   "source": [
    " # import libs\n",
    "import plotly.express as px\n",
    "import pandas as pd\n",
    "import numpy as np\n",
    "import plotly.io as pio\n",
    "from plotly.subplots import make_subplots\n",
    "from dash import Dash \n",
    "from dash import html, dcc \n",
    "from dash import callback, Output, Input\n",
    "from datetime import datetime\n",
    "pio.templates.default = 'plotly_white'"
   ]
  },
  {
   "cell_type": "code",
   "execution_count": 2,
   "outputs": [],
   "source": [
    "# create df for the Madrid Weather dataset\n",
    "df = pd.read_csv('https://raw.githubusercontent.com/viethngn/CEU_MSc_BA_ECBS5251_Data_Visualization_2/main/final_project/Madrid_Daily_Weather%201997-2015.csv')\n",
    "df.head().T;"
   ],
   "metadata": {
    "collapsed": false,
    "ExecuteTime": {
     "end_time": "2023-12-08T00:18:22.775730Z",
     "start_time": "2023-12-08T00:18:22.114285Z"
    }
   },
   "id": "88cb5e309d3dcd50"
  },
  {
   "cell_type": "code",
   "execution_count": 3,
   "outputs": [],
   "source": [
    "# filter missing data\n",
    "df = df[(df['Mean TemperatureC'].notna())]\n",
    "\n",
    "# add time columns\n",
    "df['month'] = df.CET.apply(lambda x: int(datetime.strptime(x, '%Y-%m-%d').strftime('%m')))\n",
    "df['year'] = df.CET.apply(lambda x: int(datetime.strptime(x, '%Y-%m-%d').strftime('%Y')))\n",
    "df['month_year'] = df.CET.apply(lambda x: datetime.strptime(x, '%Y-%m-%d').strftime('%b-%Y'))\n",
    "# rename columns to remove spaces\n",
    "df.rename(columns={\" Events\": \"event\"}, inplace=True)\n",
    "# add duplicated columns for groupby\n",
    "df['event_cat'] = df['event']\n",
    "df.head().T;"
   ],
   "metadata": {
    "collapsed": false,
    "ExecuteTime": {
     "end_time": "2023-12-08T00:18:22.889068Z",
     "start_time": "2023-12-08T00:18:22.778793Z"
    }
   },
   "id": "81c1c9d61d623615"
  },
  {
   "cell_type": "code",
   "execution_count": 4,
   "outputs": [],
   "source": [
    "# create a df for weather events\n",
    "event_df = df.groupby(['month_year', 'event'])['event_cat'].count()\n",
    "event_df = event_df.reset_index()\n",
    "# add the time columns\n",
    "event_df['year'] = event_df.month_year.apply(lambda x: int(str(x).split('-')[1]))\n",
    "event_df['month_year'] = pd.to_datetime(event_df['month_year'], format=\"%b-%Y\")\n",
    "event_df.head().T;"
   ],
   "metadata": {
    "collapsed": false,
    "ExecuteTime": {
     "end_time": "2023-12-08T00:18:22.897406Z",
     "start_time": "2023-12-08T00:18:22.890566Z"
    }
   },
   "id": "76cf5978aba90761"
  },
  {
   "cell_type": "code",
   "execution_count": 5,
   "outputs": [],
   "source": [
    "# Support function to create dual y-axis plot\n",
    "def plotly_dual_axis(data, title=\"\", y1=\"\", y2=\"\", x=\"\"):\n",
    "    # Create subplot with secondary axis\n",
    "    subplot_fig = make_subplots(specs=[[{\"secondary_y\": True}]])\n",
    "\n",
    "    #Put Dataframe in fig1 and fig2\n",
    "    fig1 = px.line(data, x=x, y=y1, markers = True)\n",
    "    fig2 = px.line(data, x=x, y=y2, markers = True)\n",
    "    #Change the axis for fig2\n",
    "    fig2.update_traces(yaxis=\"y2\")\n",
    "\n",
    "    #Add the figs to the subplot figure\n",
    "    subplot_fig.add_traces(fig1.data + fig2.data)\n",
    "\n",
    "    #FORMAT subplot figure\n",
    "    subplot_fig.update_layout(title=title, yaxis=dict(title=y1), yaxis2=dict(title=y2), xaxis=dict(title=x))\n",
    "\n",
    "    #RECOLOR so as not to have overlapping colors\n",
    "    subplot_fig.for_each_trace(lambda t: t.update(line=dict(color=t.marker.color)))\n",
    "\n",
    "\n",
    "    return subplot_fig"
   ],
   "metadata": {
    "collapsed": false,
    "ExecuteTime": {
     "end_time": "2023-12-08T00:18:22.905034Z",
     "start_time": "2023-12-08T00:18:22.901122Z"
    }
   },
   "id": "8a9c8f5a6e16f5e"
  },
  {
   "cell_type": "code",
   "execution_count": 6,
   "outputs": [
    {
     "data": {
      "text/plain": "<IPython.lib.display.IFrame at 0x126234fa0>",
      "text/html": "\n        <iframe\n            width=\"100%\"\n            height=\"650\"\n            src=\"http://127.0.0.1:8050/\"\n            frameborder=\"0\"\n            allowfullscreen\n            \n        ></iframe>\n        "
     },
     "metadata": {},
     "output_type": "display_data"
    }
   ],
   "source": [
    "# create the Dash app\n",
    "# Store titles\n",
    "temp_title = \"Temperature (Celcius)\"\n",
    "wind_title = \"Wind Speed (Km/h)\"\n",
    "time_title = \"Date\"\n",
    "\n",
    "# Initialize the 2 plots\n",
    "fig = plotly_dual_axis(df, title=\"Temperature & Wind Speed by Month in 2005\", x='CET', y1='Mean TemperatureC', y2=' Mean Wind SpeedKm/h')\n",
    "fig2 = px.bar(event_df, x='month_year', y='event_cat', color='event',\n",
    "              title=\"Weather Events by Month in 2005\",\n",
    "                labels={\n",
    "                          'month_year': 'Month'\n",
    "                        },\n",
    "                barmode = 'group')\n",
    "fig2.update_layout(title_x = 0.5, xaxis_tickformat=\"%b %Y\")\n",
    "\n",
    "# Start Dash app\n",
    "app = Dash(__name__)\n",
    "\n",
    "app.layout = html.Div([\n",
    "    # Header\n",
    "    html.H1('Madrid Weather Dashboard', style={'textAlign':'center', \"font-family\": \"sans-serif\", \"font-size\":\"36px\"}),\n",
    "    # Label for the Year slider\n",
    "    html.Label('Set the year:', style={'font-weight': 'bold', \"text-align\": \"center\", \n",
    "                                                \"font-family\": \"sans-serif\"}),\n",
    "    # Create the Year slider\n",
    "    dcc.Slider(id='year', min=df.year.min(), max=df.year.max(), value=2005, step=1, included=False, marks={i: '{}'.format(i) for i in range(df.year.min(),df.year.max()+1)}),\n",
    "    # Label for the plot mode\n",
    "    html.Label('Set plot mode:', style={'font-weight': 'bold', \"text-align\": \"center\", \n",
    "                                                \"font-family\": \"sans-serif\"}),\n",
    "    # Radio for plot mode selection\n",
    "    dcc.RadioItems( id='plot_mode', options=['Tempurature', 'Wind speed', 'Dual Temp & Wind'], value='Dual Temp & Wind', inline=True, style={\"font-family\": \"sans-serif\"}),\n",
    "    # Add the 2 plots\n",
    "    dcc.Graph(id = 'temp_wind_graph', figure = fig),\n",
    "    dcc.Graph(id = 'event_graph', figure = fig2),\n",
    "])\n",
    "\n",
    "# Create callback action\n",
    "@app.callback(\n",
    "    # Output for the 2 plots\n",
    "    Output('temp_wind_graph', 'figure'),\n",
    "    Output('event_graph', 'figure'),\n",
    "    # Input from the slider and radio\n",
    "    Input('year','value'),\n",
    "    Input('plot_mode','value')\n",
    ")\n",
    "\n",
    "# Define the update function\n",
    "def update(_year, _plot_mode):\n",
    "    # Show dual y-axis plot\n",
    "    if _plot_mode == 'Dual Temp & Wind':\n",
    "        fig = plotly_dual_axis(df[(df.year == _year)], \n",
    "                               title=\"test\", x='CET', y1='Mean TemperatureC', y2=' Mean Wind SpeedKm/h')\n",
    "        fig.update_layout(title = f\"Temperature & Wind Speed by Month in {_year}\", title_x = 0.5)\n",
    "        fig.update_layout(yaxis=dict(title=temp_title), yaxis2=dict(title=wind_title), xaxis=dict(title=time_title))\n",
    "        \n",
    "    # Show only plot for Temperature\n",
    "    elif _plot_mode == 'Tempurature':\n",
    "        fig = px.line(df[(df.year == _year)], \n",
    "                      x='CET', y='Mean TemperatureC', \n",
    "                      labels={\n",
    "                          'CET': time_title,\n",
    "                          'Mean TemperatureC': temp_title\n",
    "                      }, markers = True)\n",
    "        fig.update_layout(title = f\"Temperature by Month in {_year}\", title_x = 0.5)\n",
    "        \n",
    "    # Show only plot for Wind Speed\n",
    "    else:\n",
    "        fig = px.line(df[(df.year == _year)], \n",
    "                      x='CET', y=' Mean Wind SpeedKm/h',\n",
    "                      labels={\n",
    "                          'CET': time_title,\n",
    "                          ' Mean Wind SpeedKm/h': wind_title\n",
    "                      }, markers = True)\n",
    "        fig.update_traces(line_color='red')\n",
    "        fig.update_layout(title = f\"Wind Speed by Month in {_year}\", title_x = 0.5)\n",
    "    \n",
    "    # Update the Weather Event plot\n",
    "    fig2 = px.bar(event_df[(event_df.year == _year)], x='month_year', y='event_cat', color='event',\n",
    "                  title=f\"Weather Events by Month in {_year}\",\n",
    "                  labels={\n",
    "                        'month_year': 'Month',\n",
    "                        'event_cat': 'Number of Events',\n",
    "                        'event': 'Events'\n",
    "                      },\n",
    "                barmode = 'group')\n",
    "    fig2.update_layout(title_x = 0.5, xaxis_tickformat=\"%b %Y\")\n",
    "    \n",
    "    return fig, fig2\n",
    "\n",
    "app.run(debug = True)"
   ],
   "metadata": {
    "collapsed": false,
    "ExecuteTime": {
     "end_time": "2023-12-08T00:18:23.064899Z",
     "start_time": "2023-12-08T00:18:22.910719Z"
    }
   },
   "id": "476e7c2bf079812a"
  },
  {
   "cell_type": "code",
   "execution_count": 6,
   "outputs": [],
   "source": [],
   "metadata": {
    "collapsed": false,
    "ExecuteTime": {
     "end_time": "2023-12-08T00:18:23.066536Z",
     "start_time": "2023-12-08T00:18:23.064619Z"
    }
   },
   "id": "69ff7e55ddf380e3"
  }
 ],
 "metadata": {
  "kernelspec": {
   "display_name": "Python 3",
   "language": "python",
   "name": "python3"
  },
  "language_info": {
   "codemirror_mode": {
    "name": "ipython",
    "version": 2
   },
   "file_extension": ".py",
   "mimetype": "text/x-python",
   "name": "python",
   "nbconvert_exporter": "python",
   "pygments_lexer": "ipython2",
   "version": "2.7.6"
  }
 },
 "nbformat": 4,
 "nbformat_minor": 5
}
